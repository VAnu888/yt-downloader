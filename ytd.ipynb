{
  "nbformat": 4,
  "nbformat_minor": 0,
  "metadata": {
    "colab": {
      "provenance": []
    },
    "kernelspec": {
      "name": "python3",
      "display_name": "Python 3"
    },
    "language_info": {
      "name": "python"
    }
  },
  "cells": [
    {
      "cell_type": "markdown",
      "source": [
        "# **YouTube Video Downloader**\n",
        "\n",
        "*You can download you tube videos using this simple program.*"
      ],
      "metadata": {
        "id": "txBQmYspU9bU"
      }
    },
    {
      "cell_type": "code",
      "execution_count": null,
      "metadata": {
        "id": "2FDg_Lt3yrXD"
      },
      "outputs": [],
      "source": [
        "#Install pytube \n",
        "!pip install pytube\n",
        "import pytube\n",
        "#import sys for exit the program\n",
        "import sys \n",
        "\n",
        "#Run the program continuously\n",
        "while True:\n",
        "  \n",
        "  print()\n",
        "  print(\"YouTube Video Downloader\")\n",
        "  print()\n",
        "  continue_or_exit = input(\"Do you want to continue:(y/n) \")\n",
        "  if continue_or_exit == \"y\":\n",
        "    url = input(\"Enter the YouTube video URL: \")\n",
        "    try:\n",
        "      youtube = pytube.YouTube(url)\n",
        "\n",
        "      #Download the video\n",
        "      stream = video = youtube.streams.get_highest_resolution()\n",
        "\n",
        "      #Display video informations\n",
        "      print(\"Title:\", youtube.title)\n",
        "      print(\"Author:\", youtube.author)\n",
        "      print(\"Length:\", youtube.length, \"secoends\")\n",
        "      print(\"Rating:\", youtube.rating)\n",
        "      print(\"Views:\", youtube.views)\n",
        "\n",
        "      print(\"\\nDownloading...\")\n",
        "      stream.download()\n",
        "\n",
        "      print(\"Video downloaded successfully!\")\n",
        "\n",
        "    #Display the error\n",
        "    except Exception as e:\n",
        "      print(\"Error:\", str(e))\n",
        "\n",
        "  #Exit the program\n",
        "  elif continue_or_exit == \"n\":\n",
        "    print()\n",
        "    print(\"Good Bye!\")\n",
        "    sys.exit()\n",
        "  \n",
        "    \n",
        "  \n"
      ]
    }
  ]
}